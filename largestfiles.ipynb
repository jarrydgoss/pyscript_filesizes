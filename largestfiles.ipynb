import os

# Persistent Dictionary for file paths
file_metadata = {}

items_presented = 0
min_size_b = 6000
max_files = 20

selected_files = []

for path, size in sorted(file_metadata.items(), key=lambda x:x[1], reverse=True):
    if items_presented >= max_files:
        break
    if size >= min_size_b:
        selected_files.append((path, size))
        items_presented +=1

for path, size in selected_files:
    print(f"Size: {size/1024/1024:.2f} MB - Path: {path}")
