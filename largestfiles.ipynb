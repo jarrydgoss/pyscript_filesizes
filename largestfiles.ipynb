{
 "cells": [
  {
   "cell_type": "code",
   "execution_count": 27,
   "metadata": {},
   "outputs": [],
   "source": [
    "import os"
   ]
  },
  {
   "cell_type": "code",
   "execution_count": 28,
   "metadata": {},
   "outputs": [],
   "source": [
    "# Persistent Dictionary for file paths\n",
    "file_metadata = {}"
   ]
  },
  {
   "cell_type": "code",
   "execution_count": 31,
   "metadata": {},
   "outputs": [
    {
     "name": "stdout",
     "output_type": "stream",
     "text": [
      "Size: 2.86 MB - Path: .\\python_notebooks\\course_datasets\\netflix_titles.csv\n",
      "Size: 2.17 MB - Path: .\\Archives\\Script1.1 - Data_Manipulation.nb.html\n",
      "Size: 0.97 MB - Path: .\\SurveyMonkey\\Final_Output.xlsx\n",
      "Size: 0.95 MB - Path: .\\Archives\\Final_Output.xlsx\n",
      "Size: 0.84 MB - Path: .\\Archives\\Final_Output_R.xlsx\n",
      "Size: 0.45 MB - Path: .\\Archives\\Data - Survey Monkey Output Editedx.xlsx\n",
      "Size: 0.30 MB - Path: .\\SurveyMonkey\\Data - Survey Monkey Output Edited.xlsx\n",
      "Size: 0.22 MB - Path: .\\python_notebooks\\pandas_tutorial.ipynb\n",
      "Size: 0.15 MB - Path: .\\SurveyMonkey\\MyScript1 - Data_Manipulation.ipynb\n",
      "Size: 0.13 MB - Path: .\\Archives\\Script1 - Data_Manipulation.ipynb\n",
      "Size: 0.13 MB - Path: .\\python_notebooks\\course_datasets\\netflix_titles_second.csv\n",
      "Size: 0.08 MB - Path: .\\SurveyMonkey\\Data - Survey Monkey Output.xlsx\n",
      "Size: 0.02 MB - Path: .\\python_notebooks\\basic_python_datatypes.ipynb\n",
      "Size: 0.01 MB - Path: .\\largestfiles.ipynb\n"
     ]
    }
   ],
   "source": [
    "items_presented = 0\n",
    "min_size_b = 6000\n",
    "max_files = 20\n",
    "\n",
    "selected_files = []\n",
    "\n",
    "for path, size in sorted(file_metadata.items(), key=lambda x:x[1], reverse=True):\n",
    "    if items_presented >= max_files:\n",
    "        break\n",
    "    if size >= min_size_b:\n",
    "        selected_files.append((path, size))\n",
    "        items_presented +=1\n",
    "\n",
    "for path, size in selected_files:\n",
    "    print(f\"Size: {size/1024/1024:.2f} MB - Path: {path}\")"
   ]
  },
  {
   "cell_type": "code",
   "execution_count": null,
   "metadata": {},
   "outputs": [],
   "source": []
  }
 ],
 "metadata": {
  "kernelspec": {
   "display_name": "Python 3",
   "language": "python",
   "name": "python3"
  },
  "language_info": {
   "codemirror_mode": {
    "name": "ipython",
    "version": 3
   },
   "file_extension": ".py",
   "mimetype": "text/x-python",
   "name": "python",
   "nbconvert_exporter": "python",
   "pygments_lexer": "ipython3",
   "version": "3.10.11"
  },
  "orig_nbformat": 4
 },
 "nbformat": 4,
 "nbformat_minor": 2
}
