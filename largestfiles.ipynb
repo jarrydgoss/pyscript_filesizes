{
 "cells": [
  {
   "cell_type": "code",
   "execution_count": 2,
   "metadata": {},
   "outputs": [],
   "source": [
    "import os"
   ]
  },
  {
   "cell_type": "code",
   "execution_count": 3,
   "metadata": {},
   "outputs": [],
   "source": [
    "# Persistent Dictionary for file paths\n",
    "file_metadata = {}"
   ]
  },
  {
   "cell_type": "code",
   "execution_count": 4,
   "metadata": {},
   "outputs": [],
   "source": [
    "# Set variables for loop\n",
    "\n",
    "items_presented = 0 # counter against max files\n",
    "min_size_b = 6000 # min size limit in bytes\n",
    "max_files = 20 # stopper against items_presented\n",
    "\n",
    "# Create empty tuple for results\n",
    "\n",
    "selected_files = []\n",
    "\n",
    "# For loop for path, size and filter parameters\n",
    "\n",
    "for path, size in sorted(file_metadata.items(), key=lambda x:x[1], reverse=True):\n",
    "    if items_presented >= max_files:\n",
    "        break\n",
    "    if size >= min_size_b:\n",
    "        selected_files.append((path, size))\n",
    "\n",
    "# For loop for results from tuple\n",
    "\n",
    "for path, size in selected_files:\n",
    "    print(f\"Size: {size/1024/1024:.2f} MB - Path: {path}\")"
   ]
  },
  {
   "cell_type": "code",
   "execution_count": null,
   "metadata": {},
   "outputs": [],
   "source": []
  }
 ],
 "metadata": {
  "kernelspec": {
   "display_name": "Python 3",
   "language": "python",
   "name": "python3"
  },
  "language_info": {
   "codemirror_mode": {
    "name": "ipython",
    "version": 3
   },
   "file_extension": ".py",
   "mimetype": "text/x-python",
   "name": "python",
   "nbconvert_exporter": "python",
   "pygments_lexer": "ipython3",
   "version": "3.10.8"
  },
  "orig_nbformat": 4
 },
 "nbformat": 4,
 "nbformat_minor": 2
}
